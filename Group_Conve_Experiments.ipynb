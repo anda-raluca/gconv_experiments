{
  "nbformat": 4,
  "nbformat_minor": 0,
  "metadata": {
    "colab": {
      "provenance": [],
      "gpuType": "T4",
      "authorship_tag": "ABX9TyNlZ5DFmWjTPnOrXcxUY5PA",
      "include_colab_link": true
    },
    "kernelspec": {
      "name": "python3",
      "display_name": "Python 3"
    },
    "language_info": {
      "name": "python"
    },
    "accelerator": "GPU"
  },
  "cells": [
    {
      "cell_type": "markdown",
      "metadata": {
        "id": "view-in-github",
        "colab_type": "text"
      },
      "source": [
        "<a href=\"https://colab.research.google.com/github/anda-raluca/gconv_experiments/blob/master/Group_Conve_Experiments.ipynb\" target=\"_parent\"><img src=\"https://colab.research.google.com/assets/colab-badge.svg\" alt=\"Open In Colab\"/></a>"
      ]
    },
    {
      "cell_type": "code",
      "execution_count": 1,
      "metadata": {
        "colab": {
          "base_uri": "https://localhost:8080/"
        },
        "id": "4KXcKDxyep8g",
        "outputId": "076e7ad9-bfad-4cd5-adbe-04811480497a"
      },
      "outputs": [
        {
          "output_type": "stream",
          "name": "stdout",
          "text": [
            "Cloning into 'gconv_experiments'...\n",
            "remote: Enumerating objects: 39, done.\u001b[K\n",
            "remote: Total 39 (delta 0), reused 0 (delta 0), pack-reused 39\u001b[K\n",
            "Receiving objects: 100% (39/39), 57.88 KiB | 1.29 MiB/s, done.\n",
            "Resolving deltas: 100% (11/11), done.\n"
          ]
        }
      ],
      "source": [
        "!git clone https://github.com/anda-raluca/gconv_experiments.git"
      ]
    },
    {
      "cell_type": "code",
      "source": [
        "!zip -r gconv_experiments.zip gconv_experiments/"
      ],
      "metadata": {
        "colab": {
          "base_uri": "https://localhost:8080/"
        },
        "id": "zktkTnomfEHf",
        "outputId": "d9cfe264-60f9-4b69-de65-2f19420e4016"
      },
      "execution_count": 2,
      "outputs": [
        {
          "output_type": "stream",
          "name": "stdout",
          "text": [
            "  adding: gconv_experiments/ (stored 0%)\n",
            "  adding: gconv_experiments/gconv_experiments/ (stored 0%)\n",
            "  adding: gconv_experiments/gconv_experiments/residual_block_2d.py (deflated 66%)\n",
            "  adding: gconv_experiments/gconv_experiments/augmentation.py (deflated 68%)\n",
            "  adding: gconv_experiments/gconv_experiments/__init__.py (stored 0%)\n",
            "  adding: gconv_experiments/gconv_experiments/MNIST_ROT/ (stored 0%)\n",
            "  adding: gconv_experiments/gconv_experiments/MNIST_ROT/train.py (deflated 74%)\n",
            "  adding: gconv_experiments/gconv_experiments/MNIST_ROT/experiment.py (deflated 65%)\n",
            "  adding: gconv_experiments/gconv_experiments/MNIST_ROT/mnist_rot.py (deflated 66%)\n",
            "  adding: gconv_experiments/gconv_experiments/MNIST_ROT/__init__.py (stored 0%)\n",
            "  adding: gconv_experiments/gconv_experiments/MNIST_ROT/models/ (stored 0%)\n",
            "  adding: gconv_experiments/gconv_experiments/MNIST_ROT/models/P4CNN_RP.py (deflated 80%)\n",
            "  adding: gconv_experiments/gconv_experiments/MNIST_ROT/models/__init__.py (stored 0%)\n",
            "  adding: gconv_experiments/gconv_experiments/MNIST_ROT/models/P4CNN.py (deflated 78%)\n",
            "  adding: gconv_experiments/gconv_experiments/MNIST_ROT/models/Z2CNN.py (deflated 78%)\n",
            "  adding: gconv_experiments/gconv_experiments/conv_bn_act.py (deflated 55%)\n",
            "  adding: gconv_experiments/gconv_experiments/CIFAR10/ (stored 0%)\n",
            "  adding: gconv_experiments/gconv_experiments/CIFAR10/train.py (deflated 72%)\n",
            "  adding: gconv_experiments/gconv_experiments/CIFAR10/__init__.py (stored 0%)\n",
            "  adding: gconv_experiments/gconv_experiments/CIFAR10/models/ (stored 0%)\n",
            "  adding: gconv_experiments/gconv_experiments/CIFAR10/models/P4AllCNNC.py (deflated 81%)\n",
            "  adding: gconv_experiments/gconv_experiments/CIFAR10/models/P4MResNet.py (deflated 70%)\n",
            "  adding: gconv_experiments/gconv_experiments/CIFAR10/models/P4MAllCNNC.py (deflated 81%)\n",
            "  adding: gconv_experiments/gconv_experiments/CIFAR10/models/AllCNNC.py (deflated 82%)\n",
            "  adding: gconv_experiments/gconv_experiments/CIFAR10/models/__init__.py (stored 0%)\n",
            "  adding: gconv_experiments/gconv_experiments/CIFAR10/models/ResNet.py (deflated 71%)\n",
            "  adding: gconv_experiments/gconv_experiments/CIFAR10/cifar10.py (deflated 69%)\n",
            "  adding: gconv_experiments/gconv_experiments/paper_plots.py (deflated 79%)\n",
            "  adding: gconv_experiments/LICENSE (deflated 42%)\n",
            "  adding: gconv_experiments/requirements.txt (stored 0%)\n",
            "  adding: gconv_experiments/p4_anim.gif (deflated 5%)\n",
            "  adding: gconv_experiments/README.md (deflated 59%)\n",
            "  adding: gconv_experiments/.gitignore (deflated 47%)\n",
            "  adding: gconv_experiments/.git/ (stored 0%)\n",
            "  adding: gconv_experiments/.git/HEAD (stored 0%)\n",
            "  adding: gconv_experiments/.git/refs/ (stored 0%)\n",
            "  adding: gconv_experiments/.git/refs/heads/ (stored 0%)\n",
            "  adding: gconv_experiments/.git/refs/heads/master (stored 0%)\n",
            "  adding: gconv_experiments/.git/refs/tags/ (stored 0%)\n",
            "  adding: gconv_experiments/.git/refs/remotes/ (stored 0%)\n",
            "  adding: gconv_experiments/.git/refs/remotes/origin/ (stored 0%)\n",
            "  adding: gconv_experiments/.git/refs/remotes/origin/HEAD (stored 0%)\n",
            "  adding: gconv_experiments/.git/info/ (stored 0%)\n",
            "  adding: gconv_experiments/.git/info/exclude (deflated 28%)\n",
            "  adding: gconv_experiments/.git/packed-refs (deflated 11%)\n",
            "  adding: gconv_experiments/.git/index (deflated 57%)\n",
            "  adding: gconv_experiments/.git/branches/ (stored 0%)\n",
            "  adding: gconv_experiments/.git/hooks/ (stored 0%)\n",
            "  adding: gconv_experiments/.git/hooks/post-update.sample (deflated 27%)\n",
            "  adding: gconv_experiments/.git/hooks/pre-commit.sample (deflated 45%)\n",
            "  adding: gconv_experiments/.git/hooks/push-to-checkout.sample (deflated 55%)\n",
            "  adding: gconv_experiments/.git/hooks/pre-merge-commit.sample (deflated 39%)\n",
            "  adding: gconv_experiments/.git/hooks/pre-push.sample (deflated 49%)\n",
            "  adding: gconv_experiments/.git/hooks/update.sample (deflated 68%)\n",
            "  adding: gconv_experiments/.git/hooks/prepare-commit-msg.sample (deflated 50%)\n",
            "  adding: gconv_experiments/.git/hooks/pre-applypatch.sample (deflated 38%)\n",
            "  adding: gconv_experiments/.git/hooks/commit-msg.sample (deflated 44%)\n",
            "  adding: gconv_experiments/.git/hooks/fsmonitor-watchman.sample (deflated 62%)\n",
            "  adding: gconv_experiments/.git/hooks/pre-receive.sample (deflated 40%)\n",
            "  adding: gconv_experiments/.git/hooks/pre-rebase.sample (deflated 59%)\n",
            "  adding: gconv_experiments/.git/hooks/applypatch-msg.sample (deflated 42%)\n",
            "  adding: gconv_experiments/.git/config (deflated 33%)\n",
            "  adding: gconv_experiments/.git/description (deflated 14%)\n",
            "  adding: gconv_experiments/.git/objects/ (stored 0%)\n",
            "  adding: gconv_experiments/.git/objects/info/ (stored 0%)\n",
            "  adding: gconv_experiments/.git/objects/pack/ (stored 0%)\n",
            "  adding: gconv_experiments/.git/objects/pack/pack-c3e0fa0fc2f995c4b2678b13cdfaf0dade5ed4a5.idx (deflated 41%)\n",
            "  adding: gconv_experiments/.git/objects/pack/pack-c3e0fa0fc2f995c4b2678b13cdfaf0dade5ed4a5.pack (deflated 0%)\n",
            "  adding: gconv_experiments/.git/logs/ (stored 0%)\n",
            "  adding: gconv_experiments/.git/logs/HEAD (deflated 28%)\n",
            "  adding: gconv_experiments/.git/logs/refs/ (stored 0%)\n",
            "  adding: gconv_experiments/.git/logs/refs/heads/ (stored 0%)\n",
            "  adding: gconv_experiments/.git/logs/refs/heads/master (deflated 28%)\n",
            "  adding: gconv_experiments/.git/logs/refs/remotes/ (stored 0%)\n",
            "  adding: gconv_experiments/.git/logs/refs/remotes/origin/ (stored 0%)\n",
            "  adding: gconv_experiments/.git/logs/refs/remotes/origin/HEAD (deflated 28%)\n"
          ]
        }
      ]
    },
    {
      "cell_type": "code",
      "source": [
        "%cd gconv_experiments"
      ],
      "metadata": {
        "colab": {
          "base_uri": "https://localhost:8080/"
        },
        "id": "FZMsYfs0fId6",
        "outputId": "67eccb61-bda0-49ee-e4b0-2ba8afbdf2bd"
      },
      "execution_count": 3,
      "outputs": [
        {
          "output_type": "stream",
          "name": "stdout",
          "text": [
            "/content/gconv_experiments\n"
          ]
        }
      ]
    },
    {
      "cell_type": "code",
      "source": [
        "%cd gconv_experiments"
      ],
      "metadata": {
        "colab": {
          "base_uri": "https://localhost:8080/"
        },
        "id": "APg0NN4t5b7D",
        "outputId": "45f2db88-23db-4a25-a188-ded81295ed49"
      },
      "execution_count": 5,
      "outputs": [
        {
          "output_type": "stream",
          "name": "stdout",
          "text": [
            "/content/gconv_experiments/gconv_experiments\n"
          ]
        }
      ]
    },
    {
      "cell_type": "code",
      "source": [
        "cd ../.."
      ],
      "metadata": {
        "colab": {
          "base_uri": "https://localhost:8080/"
        },
        "id": "3sJkmXvn8fRG",
        "outputId": "ca280cfd-3d24-44c2-ac82-f9f3647f5217"
      },
      "execution_count": 17,
      "outputs": [
        {
          "output_type": "stream",
          "name": "stdout",
          "text": [
            "/content\n"
          ]
        }
      ]
    },
    {
      "cell_type": "code",
      "source": [
        "%cd gconv_experiments"
      ],
      "metadata": {
        "colab": {
          "base_uri": "https://localhost:8080/"
        },
        "id": "lEZPYrJS8i0Y",
        "outputId": "3b52d08c-6a55-4c7a-895c-dbd8e535f058"
      },
      "execution_count": 18,
      "outputs": [
        {
          "output_type": "stream",
          "name": "stdout",
          "text": [
            "/content/gconv_experiments\n"
          ]
        }
      ]
    },
    {
      "cell_type": "code",
      "source": [
        "!pip install -r requirements.txt"
      ],
      "metadata": {
        "colab": {
          "base_uri": "https://localhost:8080/"
        },
        "id": "icP2LxSI8a3f",
        "outputId": "89286564-7884-47d1-870b-33dfbb506809"
      },
      "execution_count": 22,
      "outputs": [
        {
          "output_type": "stream",
          "name": "stdout",
          "text": [
            "Requirement already satisfied: numpy in /usr/local/lib/python3.10/dist-packages (from -r requirements.txt (line 1)) (1.25.2)\n",
            "Requirement already satisfied: scipy in /usr/local/lib/python3.10/dist-packages (from -r requirements.txt (line 2)) (1.11.4)\n",
            "Requirement already satisfied: matplotlib in /usr/local/lib/python3.10/dist-packages (from -r requirements.txt (line 3)) (3.7.1)\n",
            "Requirement already satisfied: progressbar2 in /usr/local/lib/python3.10/dist-packages (from -r requirements.txt (line 4)) (4.2.0)\n",
            "Requirement already satisfied: scikit-image in /usr/local/lib/python3.10/dist-packages (from -r requirements.txt (line 5)) (0.19.3)\n",
            "Requirement already satisfied: contourpy>=1.0.1 in /usr/local/lib/python3.10/dist-packages (from matplotlib->-r requirements.txt (line 3)) (1.2.0)\n",
            "Requirement already satisfied: cycler>=0.10 in /usr/local/lib/python3.10/dist-packages (from matplotlib->-r requirements.txt (line 3)) (0.12.1)\n",
            "Requirement already satisfied: fonttools>=4.22.0 in /usr/local/lib/python3.10/dist-packages (from matplotlib->-r requirements.txt (line 3)) (4.49.0)\n",
            "Requirement already satisfied: kiwisolver>=1.0.1 in /usr/local/lib/python3.10/dist-packages (from matplotlib->-r requirements.txt (line 3)) (1.4.5)\n",
            "Requirement already satisfied: packaging>=20.0 in /usr/local/lib/python3.10/dist-packages (from matplotlib->-r requirements.txt (line 3)) (23.2)\n",
            "Requirement already satisfied: pillow>=6.2.0 in /usr/local/lib/python3.10/dist-packages (from matplotlib->-r requirements.txt (line 3)) (9.4.0)\n",
            "Requirement already satisfied: pyparsing>=2.3.1 in /usr/local/lib/python3.10/dist-packages (from matplotlib->-r requirements.txt (line 3)) (3.1.1)\n",
            "Requirement already satisfied: python-dateutil>=2.7 in /usr/local/lib/python3.10/dist-packages (from matplotlib->-r requirements.txt (line 3)) (2.8.2)\n",
            "Requirement already satisfied: python-utils>=3.0.0 in /usr/local/lib/python3.10/dist-packages (from progressbar2->-r requirements.txt (line 4)) (3.8.2)\n",
            "Requirement already satisfied: networkx>=2.2 in /usr/local/lib/python3.10/dist-packages (from scikit-image->-r requirements.txt (line 5)) (3.2.1)\n",
            "Requirement already satisfied: imageio>=2.4.1 in /usr/local/lib/python3.10/dist-packages (from scikit-image->-r requirements.txt (line 5)) (2.31.6)\n",
            "Requirement already satisfied: tifffile>=2019.7.26 in /usr/local/lib/python3.10/dist-packages (from scikit-image->-r requirements.txt (line 5)) (2024.2.12)\n",
            "Requirement already satisfied: PyWavelets>=1.1.1 in /usr/local/lib/python3.10/dist-packages (from scikit-image->-r requirements.txt (line 5)) (1.5.0)\n",
            "Requirement already satisfied: six>=1.5 in /usr/local/lib/python3.10/dist-packages (from python-dateutil>=2.7->matplotlib->-r requirements.txt (line 3)) (1.16.0)\n",
            "Requirement already satisfied: typing-extensions>3.10.0.2 in /usr/local/lib/python3.10/dist-packages (from python-utils>=3.0.0->progressbar2->-r requirements.txt (line 4)) (4.10.0)\n"
          ]
        }
      ]
    },
    {
      "cell_type": "code",
      "source": [
        "%cd  gconv_experiments"
      ],
      "metadata": {
        "colab": {
          "base_uri": "https://localhost:8080/"
        },
        "id": "OTh9z9em-lfn",
        "outputId": "d306d946-94db-4e54-995b-ee156030f489"
      },
      "execution_count": 24,
      "outputs": [
        {
          "output_type": "stream",
          "name": "stdout",
          "text": [
            "/content/gconv_experiments/gconv_experiments\n"
          ]
        }
      ]
    },
    {
      "cell_type": "code",
      "source": [
        "!pip install chainer\n"
      ],
      "metadata": {
        "colab": {
          "base_uri": "https://localhost:8080/"
        },
        "id": "UaYpbfQZAPwy",
        "outputId": "a1ccf317-d4d3-4d9d-86b4-7c82bc195fd3"
      },
      "execution_count": 26,
      "outputs": [
        {
          "output_type": "stream",
          "name": "stdout",
          "text": [
            "Collecting chainer\n",
            "  Downloading chainer-7.8.1.tar.gz (1.0 MB)\n",
            "\u001b[2K     \u001b[90m━━━━━━━━━━━━━━━━━━━━━━━━━━━━━━━━━━━━━━━━\u001b[0m \u001b[32m1.0/1.0 MB\u001b[0m \u001b[31m6.1 MB/s\u001b[0m eta \u001b[36m0:00:00\u001b[0m\n",
            "\u001b[?25h  Preparing metadata (setup.py) ... \u001b[?25l\u001b[?25hdone\n",
            "Requirement already satisfied: setuptools in /usr/local/lib/python3.10/dist-packages (from chainer) (67.7.2)\n",
            "Requirement already satisfied: typing_extensions in /usr/local/lib/python3.10/dist-packages (from chainer) (4.10.0)\n",
            "Requirement already satisfied: filelock in /usr/local/lib/python3.10/dist-packages (from chainer) (3.13.1)\n",
            "Requirement already satisfied: numpy>=1.9.0 in /usr/local/lib/python3.10/dist-packages (from chainer) (1.25.2)\n",
            "Requirement already satisfied: protobuf>=3.0.0 in /usr/local/lib/python3.10/dist-packages (from chainer) (3.20.3)\n",
            "Requirement already satisfied: six>=1.9.0 in /usr/local/lib/python3.10/dist-packages (from chainer) (1.16.0)\n",
            "Building wheels for collected packages: chainer\n",
            "  Building wheel for chainer (setup.py) ... \u001b[?25l\u001b[?25hdone\n",
            "  Created wheel for chainer: filename=chainer-7.8.1-py3-none-any.whl size=967716 sha256=c8871d9caa55d1b212f80d257fd9217513111a0bded57f911b503b573d01b6b0\n",
            "  Stored in directory: /root/.cache/pip/wheels/c4/95/6a/16014db6f761c4e742755b64aac60dbe142da1df6c5919f790\n",
            "Successfully built chainer\n",
            "Installing collected packages: chainer\n",
            "Successfully installed chainer-7.8.1\n"
          ]
        }
      ]
    },
    {
      "cell_type": "code",
      "source": [
        "from google.colab import drive"
      ],
      "metadata": {
        "id": "Z_jWM5sJCHo7"
      },
      "execution_count": 31,
      "outputs": []
    },
    {
      "cell_type": "code",
      "source": [
        "drive.mount('/content/drive')"
      ],
      "metadata": {
        "colab": {
          "base_uri": "https://localhost:8080/"
        },
        "id": "_pFcH-O_CK9Y",
        "outputId": "aff9c5c2-e1d6-40e4-c626-980408115ae9"
      },
      "execution_count": 37,
      "outputs": [
        {
          "output_type": "stream",
          "name": "stdout",
          "text": [
            "Drive already mounted at /content/drive; to attempt to forcibly remount, call drive.mount(\"/content/drive\", force_remount=True).\n"
          ]
        }
      ]
    },
    {
      "cell_type": "code",
      "source": [
        "import os\n",
        "path = \"/content/drive/MyDrive/Master_project\"\n",
        "fnames = os.listdir(path)\n",
        "print(fnames)\n",
        "print(os.environ['/content/drive/MyDrive/Master_project'])"
      ],
      "metadata": {
        "colab": {
          "base_uri": "https://localhost:8080/",
          "height": 329
        },
        "id": "9DpH7vsgCTzl",
        "outputId": "fc6e45aa-7ff4-4413-9371-665cba1a8fce"
      },
      "execution_count": 47,
      "outputs": [
        {
          "output_type": "stream",
          "name": "stdout",
          "text": [
            "['BasicGIGP-Retry.ipynb', 'TI Pooling.ipynb', 'LieConv', 'LieConvNotebook.ipynb', 'Group Conve Experiments.ipynb', 'mnist_train_small.csv', 'mnist_test.csv']\n"
          ]
        },
        {
          "output_type": "error",
          "ename": "KeyError",
          "evalue": "'/content/drive/MyDrive/Master_project'",
          "traceback": [
            "\u001b[0;31m---------------------------------------------------------------------------\u001b[0m",
            "\u001b[0;31mKeyError\u001b[0m                                  Traceback (most recent call last)",
            "\u001b[0;32m<ipython-input-47-74ab4118e09f>\u001b[0m in \u001b[0;36m<cell line: 5>\u001b[0;34m()\u001b[0m\n\u001b[1;32m      3\u001b[0m \u001b[0mfnames\u001b[0m \u001b[0;34m=\u001b[0m \u001b[0mos\u001b[0m\u001b[0;34m.\u001b[0m\u001b[0mlistdir\u001b[0m\u001b[0;34m(\u001b[0m\u001b[0mpath\u001b[0m\u001b[0;34m)\u001b[0m\u001b[0;34m\u001b[0m\u001b[0;34m\u001b[0m\u001b[0m\n\u001b[1;32m      4\u001b[0m \u001b[0mprint\u001b[0m\u001b[0;34m(\u001b[0m\u001b[0mfnames\u001b[0m\u001b[0;34m)\u001b[0m\u001b[0;34m\u001b[0m\u001b[0;34m\u001b[0m\u001b[0m\n\u001b[0;32m----> 5\u001b[0;31m \u001b[0mprint\u001b[0m\u001b[0;34m(\u001b[0m\u001b[0mos\u001b[0m\u001b[0;34m.\u001b[0m\u001b[0menviron\u001b[0m\u001b[0;34m[\u001b[0m\u001b[0;34m'/content/drive/MyDrive/Master_project'\u001b[0m\u001b[0;34m]\u001b[0m\u001b[0;34m)\u001b[0m\u001b[0;34m\u001b[0m\u001b[0;34m\u001b[0m\u001b[0m\n\u001b[0m",
            "\u001b[0;32m/usr/lib/python3.10/os.py\u001b[0m in \u001b[0;36m__getitem__\u001b[0;34m(self, key)\u001b[0m\n\u001b[1;32m    678\u001b[0m         \u001b[0;32mexcept\u001b[0m \u001b[0mKeyError\u001b[0m\u001b[0;34m:\u001b[0m\u001b[0;34m\u001b[0m\u001b[0;34m\u001b[0m\u001b[0m\n\u001b[1;32m    679\u001b[0m             \u001b[0;31m# raise KeyError with the original key value\u001b[0m\u001b[0;34m\u001b[0m\u001b[0;34m\u001b[0m\u001b[0m\n\u001b[0;32m--> 680\u001b[0;31m             \u001b[0;32mraise\u001b[0m \u001b[0mKeyError\u001b[0m\u001b[0;34m(\u001b[0m\u001b[0mkey\u001b[0m\u001b[0;34m)\u001b[0m \u001b[0;32mfrom\u001b[0m \u001b[0;32mNone\u001b[0m\u001b[0;34m\u001b[0m\u001b[0;34m\u001b[0m\u001b[0m\n\u001b[0m\u001b[1;32m    681\u001b[0m         \u001b[0;32mreturn\u001b[0m \u001b[0mself\u001b[0m\u001b[0;34m.\u001b[0m\u001b[0mdecodevalue\u001b[0m\u001b[0;34m(\u001b[0m\u001b[0mvalue\u001b[0m\u001b[0;34m)\u001b[0m\u001b[0;34m\u001b[0m\u001b[0;34m\u001b[0m\u001b[0m\n\u001b[1;32m    682\u001b[0m \u001b[0;34m\u001b[0m\u001b[0m\n",
            "\u001b[0;31mKeyError\u001b[0m: '/content/drive/MyDrive/Master_project'"
          ]
        }
      ]
    },
    {
      "cell_type": "code",
      "source": [
        "!ipython MNIST_ROT/experiment.py -- --trainfn=[sample_data]/train_all.npz --valfn=['/content/drive/MyDrive/Master_project']/test.npz"
      ],
      "metadata": {
        "colab": {
          "base_uri": "https://localhost:8080/"
        },
        "id": "MHyCb4vNDd7l",
        "outputId": "7a9e275e-22e5-47c1-a26f-1a7dd621b976"
      },
      "execution_count": 49,
      "outputs": [
        {
          "output_type": "stream",
          "name": "stdout",
          "text": [
            "\u001b[22;0t\u001b]0;IPython: gconv_experiments/gconv_experiments\u0007Model: P4CNN.py\n",
            "Augmentation: rotation\n",
            "Repeat: 1\n",
            "\u001b[0;31m---------------------------------------------------------------------------\u001b[0m\n",
            "\u001b[0;31mKeyError\u001b[0m                                  Traceback (most recent call last)\n",
            "\u001b[0;32m/content/gconv_experiments/gconv_experiments/MNIST_ROT/train.py\u001b[0m in \u001b[0;36mtrain\u001b[0;34m(modelfn, trainfn, valfn, epochs, batchsize, opt, opt_kwargs, net_kwargs, transformations, val_freq, save_freq, seed, gpu, silent, logme)\u001b[0m\n",
            "\u001b[1;32m    162\u001b[0m     \u001b[0;32mtry\u001b[0m\u001b[0;34m:\u001b[0m\u001b[0;34m\u001b[0m\u001b[0;34m\u001b[0m\u001b[0m\n",
            "\u001b[0;32m--> 163\u001b[0;31m         \u001b[0mdatadir\u001b[0m \u001b[0;34m=\u001b[0m \u001b[0mos\u001b[0m\u001b[0;34m.\u001b[0m\u001b[0menviron\u001b[0m\u001b[0;34m[\u001b[0m\u001b[0;34m'DATADIR'\u001b[0m\u001b[0;34m]\u001b[0m\u001b[0;34m\u001b[0m\u001b[0;34m\u001b[0m\u001b[0m\n",
            "\u001b[0m\u001b[1;32m    164\u001b[0m     \u001b[0;32mexcept\u001b[0m \u001b[0mKeyError\u001b[0m\u001b[0;34m:\u001b[0m\u001b[0;34m\u001b[0m\u001b[0;34m\u001b[0m\u001b[0m\n",
            "\n",
            "\u001b[0;32m/usr/lib/python3.10/os.py\u001b[0m in \u001b[0;36m__getitem__\u001b[0;34m(self, key)\u001b[0m\n",
            "\u001b[1;32m    679\u001b[0m             \u001b[0;31m# raise KeyError with the original key value\u001b[0m\u001b[0;34m\u001b[0m\u001b[0;34m\u001b[0m\u001b[0m\n",
            "\u001b[0;32m--> 680\u001b[0;31m             \u001b[0;32mraise\u001b[0m \u001b[0mKeyError\u001b[0m\u001b[0;34m(\u001b[0m\u001b[0mkey\u001b[0m\u001b[0;34m)\u001b[0m \u001b[0;32mfrom\u001b[0m \u001b[0;32mNone\u001b[0m\u001b[0;34m\u001b[0m\u001b[0;34m\u001b[0m\u001b[0m\n",
            "\u001b[0m\u001b[1;32m    681\u001b[0m         \u001b[0;32mreturn\u001b[0m \u001b[0mself\u001b[0m\u001b[0;34m.\u001b[0m\u001b[0mdecodevalue\u001b[0m\u001b[0;34m(\u001b[0m\u001b[0mvalue\u001b[0m\u001b[0;34m)\u001b[0m\u001b[0;34m\u001b[0m\u001b[0;34m\u001b[0m\u001b[0m\n",
            "\n",
            "\u001b[0;31mKeyError\u001b[0m: 'DATADIR'\n",
            "\n",
            "During handling of the above exception, another exception occurred:\n",
            "\n",
            "\u001b[0;31mRuntimeError\u001b[0m                              Traceback (most recent call last)\n",
            "\u001b[0;32m/content/gconv_experiments/gconv_experiments/MNIST_ROT/experiment.py\u001b[0m in \u001b[0;36m<module>\u001b[0;34m\u001b[0m\n",
            "\u001b[1;32m     25\u001b[0m \u001b[0;34m\u001b[0m\u001b[0m\n",
            "\u001b[1;32m     26\u001b[0m                 \u001b[0mmodelfn\u001b[0m \u001b[0;34m=\u001b[0m \u001b[0mos\u001b[0m\u001b[0;34m.\u001b[0m\u001b[0mpath\u001b[0m\u001b[0;34m.\u001b[0m\u001b[0mjoin\u001b[0m\u001b[0;34m(\u001b[0m\u001b[0margs\u001b[0m\u001b[0;34m[\u001b[0m\u001b[0;34m'modelpath'\u001b[0m\u001b[0;34m]\u001b[0m\u001b[0;34m,\u001b[0m \u001b[0mm\u001b[0m\u001b[0;34m)\u001b[0m\u001b[0;34m\u001b[0m\u001b[0;34m\u001b[0m\u001b[0m\n",
            "\u001b[0;32m---> 27\u001b[0;31m                 err, _, _ = train(\n",
            "\u001b[0m\u001b[1;32m     28\u001b[0m                     \u001b[0mmodelfn\u001b[0m\u001b[0;34m=\u001b[0m\u001b[0mmodelfn\u001b[0m\u001b[0;34m,\u001b[0m\u001b[0;34m\u001b[0m\u001b[0;34m\u001b[0m\u001b[0m\n",
            "\u001b[1;32m     29\u001b[0m                     \u001b[0mtrainfn\u001b[0m\u001b[0;34m=\u001b[0m\u001b[0margs\u001b[0m\u001b[0;34m[\u001b[0m\u001b[0;34m'trainfn'\u001b[0m\u001b[0;34m]\u001b[0m\u001b[0;34m,\u001b[0m\u001b[0;34m\u001b[0m\u001b[0;34m\u001b[0m\u001b[0m\n",
            "\n",
            "\u001b[0;32m/content/gconv_experiments/gconv_experiments/MNIST_ROT/train.py\u001b[0m in \u001b[0;36mtrain\u001b[0;34m(modelfn, trainfn, valfn, epochs, batchsize, opt, opt_kwargs, net_kwargs, transformations, val_freq, save_freq, seed, gpu, silent, logme)\u001b[0m\n",
            "\u001b[1;32m    163\u001b[0m         \u001b[0mdatadir\u001b[0m \u001b[0;34m=\u001b[0m \u001b[0mos\u001b[0m\u001b[0;34m.\u001b[0m\u001b[0menviron\u001b[0m\u001b[0;34m[\u001b[0m\u001b[0;34m'DATADIR'\u001b[0m\u001b[0;34m]\u001b[0m\u001b[0;34m\u001b[0m\u001b[0;34m\u001b[0m\u001b[0m\n",
            "\u001b[1;32m    164\u001b[0m     \u001b[0;32mexcept\u001b[0m \u001b[0mKeyError\u001b[0m\u001b[0;34m:\u001b[0m\u001b[0;34m\u001b[0m\u001b[0;34m\u001b[0m\u001b[0m\n",
            "\u001b[0;32m--> 165\u001b[0;31m         raise RuntimeError('Please set DATADIR environment variable (e.g. in ~/.bashrc) '\n",
            "\u001b[0m\u001b[1;32m    166\u001b[0m                            'to a folder containing the required datasets.')\n",
            "\u001b[1;32m    167\u001b[0m \u001b[0;34m\u001b[0m\u001b[0m\n",
            "\n",
            "\u001b[0;31mRuntimeError\u001b[0m: Please set DATADIR environment variable (e.g. in ~/.bashrc) to a folder containing the required datasets.\n"
          ]
        }
      ]
    },
    {
      "cell_type": "code",
      "source": [
        "!git push https://github.com/anda-raluca/gconv_experiments.git"
      ],
      "metadata": {
        "colab": {
          "base_uri": "https://localhost:8080/"
        },
        "id": "NWD0iYf4FDpA",
        "outputId": "190f635c-8aa1-46ec-cfa6-0a21ed303da5"
      },
      "execution_count": 51,
      "outputs": [
        {
          "output_type": "stream",
          "name": "stdout",
          "text": [
            "fatal: could not read Username for 'https://github.com': No such device or address\n"
          ]
        }
      ]
    }
  ]
}